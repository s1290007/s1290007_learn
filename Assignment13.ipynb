{
  "nbformat": 4,
  "nbformat_minor": 0,
  "metadata": {
    "colab": {
      "provenance": [],
      "authorship_tag": "ABX9TyPqYX0GXAWTmgpaPoWL28m2",
      "include_colab_link": true
    },
    "kernelspec": {
      "name": "python3",
      "display_name": "Python 3"
    },
    "language_info": {
      "name": "python"
    }
  },
  "cells": [
    {
      "cell_type": "markdown",
      "metadata": {
        "id": "view-in-github",
        "colab_type": "text"
      },
      "source": [
        "<a href=\"https://colab.research.google.com/github/s1290007/s1290007_learn/blob/main/Assignment13.ipynb\" target=\"_parent\"><img src=\"https://colab.research.google.com/assets/colab-badge.svg\" alt=\"Open In Colab\"/></a>"
      ]
    },
    {
      "cell_type": "markdown",
      "source": [
        "## Assignment 13"
      ],
      "metadata": {
        "id": "FdSjKYSv1qQ5"
      }
    },
    {
      "cell_type": "code",
      "source": [
        "import pandas as pd"
      ],
      "metadata": {
        "id": "N-5rR8j21tNr"
      },
      "execution_count": 27,
      "outputs": []
    },
    {
      "cell_type": "code",
      "source": [
        "df = pd.read_csv('/content/timeSpendGradeReceivedDataset.csv')"
      ],
      "metadata": {
        "id": "xNIlNNs62FdJ"
      },
      "execution_count": 28,
      "outputs": []
    },
    {
      "cell_type": "markdown",
      "source": [
        "#### 1. Data Processing"
      ],
      "metadata": {
        "id": "W6I53T5l2UWX"
      }
    },
    {
      "cell_type": "markdown",
      "source": [
        "1.1     Read the dataset and inspect the structure, column names, and data types."
      ],
      "metadata": {
        "id": "b8k24E8K2bVc"
      }
    },
    {
      "cell_type": "code",
      "source": [
        "print(df.head())"
      ],
      "metadata": {
        "colab": {
          "base_uri": "https://localhost:8080/"
        },
        "id": "E8kZ4ha82K9-",
        "outputId": "09099c18-d91e-4ec8-f931-1123f7c54c50"
      },
      "execution_count": 29,
      "outputs": [
        {
          "output_type": "stream",
          "name": "stdout",
          "text": [
            "       Time taken  Grade/10.00\n",
            "0   1 min 17 secs          6.0\n",
            "1         41 secs         10.0\n",
            "2  3 mins 57 secs          6.0\n",
            "3         32 secs         10.0\n",
            "4   1 min 36 secs         10.0\n"
          ]
        }
      ]
    },
    {
      "cell_type": "code",
      "source": [
        "print(df.columns)"
      ],
      "metadata": {
        "colab": {
          "base_uri": "https://localhost:8080/"
        },
        "id": "EKV6MYCZ2g7v",
        "outputId": "36923ff6-1e2b-4eee-f663-02e9cf320ae8"
      },
      "execution_count": 30,
      "outputs": [
        {
          "output_type": "stream",
          "name": "stdout",
          "text": [
            "Index(['Time taken', 'Grade/10.00'], dtype='object')\n"
          ]
        }
      ]
    },
    {
      "cell_type": "code",
      "source": [
        "print(df.dtypes)"
      ],
      "metadata": {
        "colab": {
          "base_uri": "https://localhost:8080/"
        },
        "id": "vcIweLqf2j1g",
        "outputId": "4bb41327-187a-410a-f280-fbf3979bf9ee"
      },
      "execution_count": 31,
      "outputs": [
        {
          "output_type": "stream",
          "name": "stdout",
          "text": [
            "Time taken      object\n",
            "Grade/10.00    float64\n",
            "dtype: object\n"
          ]
        }
      ]
    },
    {
      "cell_type": "code",
      "source": [
        "print(df.info())"
      ],
      "metadata": {
        "colab": {
          "base_uri": "https://localhost:8080/"
        },
        "id": "TTPyEye62lkJ",
        "outputId": "54d16aa5-076d-444b-9615-be0da1d10d22"
      },
      "execution_count": 32,
      "outputs": [
        {
          "output_type": "stream",
          "name": "stdout",
          "text": [
            "<class 'pandas.core.frame.DataFrame'>\n",
            "RangeIndex: 117 entries, 0 to 116\n",
            "Data columns (total 2 columns):\n",
            " #   Column       Non-Null Count  Dtype  \n",
            "---  ------       --------------  -----  \n",
            " 0   Time taken   117 non-null    object \n",
            " 1   Grade/10.00  117 non-null    float64\n",
            "dtypes: float64(1), object(1)\n",
            "memory usage: 2.0+ KB\n",
            "None\n"
          ]
        }
      ]
    },
    {
      "cell_type": "code",
      "source": [
        "import re"
      ],
      "metadata": {
        "id": "ZMTqlkW65ZSV"
      },
      "execution_count": 33,
      "outputs": []
    },
    {
      "cell_type": "code",
      "source": [
        "def convert_to_seconds(time_str):\n",
        "  match = re.match(r'(?:(\\d+)\\smins?\\s)?(\\d+)\\ssecs?',time_str)\n",
        "  if match:\n",
        "    minutes = int(match.group(1)) if match.group(1) else 0\n",
        "    seconds = int(match.group(2))\n",
        "    return minutes * 60 + seconds\n",
        "  else:\n",
        "    return None"
      ],
      "metadata": {
        "id": "LrzmOMLl2qmV"
      },
      "execution_count": 34,
      "outputs": []
    },
    {
      "cell_type": "code",
      "source": [
        "df['Time in seconds'] = df['Time taken'].apply(convert_to_seconds)"
      ],
      "metadata": {
        "id": "h8YPR_kG5H84"
      },
      "execution_count": 35,
      "outputs": []
    },
    {
      "cell_type": "code",
      "source": [
        "print(df)"
      ],
      "metadata": {
        "colab": {
          "base_uri": "https://localhost:8080/"
        },
        "id": "du0hyof25TTq",
        "outputId": "13cb99bd-1424-4efb-84eb-0d46fa8a7a7c"
      },
      "execution_count": 36,
      "outputs": [
        {
          "output_type": "stream",
          "name": "stdout",
          "text": [
            "         Time taken  Grade/10.00  Time in seconds\n",
            "0     1 min 17 secs          6.0               77\n",
            "1           41 secs         10.0               41\n",
            "2    3 mins 57 secs          6.0              237\n",
            "3           32 secs         10.0               32\n",
            "4     1 min 36 secs         10.0               96\n",
            "..              ...          ...              ...\n",
            "112         35 secs          6.0               35\n",
            "113         48 secs         10.0               48\n",
            "114         44 secs         10.0               44\n",
            "115         21 secs          4.0               21\n",
            "116          4 secs          0.0                4\n",
            "\n",
            "[117 rows x 3 columns]\n"
          ]
        }
      ]
    },
    {
      "cell_type": "code",
      "source": [],
      "metadata": {
        "id": "qa-b94OQ5fA9"
      },
      "execution_count": 36,
      "outputs": []
    }
  ]
}